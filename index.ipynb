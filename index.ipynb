{
 "cells": [
  {
   "cell_type": "markdown",
   "metadata": {},
   "source": [
    "# Spread+getter=:finnadie:\n",
    "\n",
    "## Abstract\n",
    "A common pattern to \"extends\" object and or clone them is to use the spread operator, this can lead to this kind of bizarre behavior when used with getter:"
   ]
  },
  {
   "cell_type": "code",
   "execution_count": 7,
   "metadata": {},
   "outputs": [
    {
     "name": "stdout",
     "output_type": "stream",
     "text": [
      "original.counter, expecting 0, but found: 1\n",
      "copy.counter, expecting 2, but found: 0\n"
     ]
    }
   ],
   "source": [
    "let counter = 0;\n",
    "const original = {\n",
    "    get counter() {\n",
    "        return counter++;\n",
    "    }\n",
    "};\n",
    "const copy = {...original};\n",
    "console.log('original.counter, expecting 0, but found:', original.counter);\n",
    "// Okay, if original.counter is 1, if I call copy.counter, it should be 2, right?\n",
    "console.log('copy.counter, expecting 2, but found:', copy.counter);\n"
   ]
  },
  {
   "cell_type": "markdown",
   "metadata": {},
   "source": [
    "## Problem\n",
    "\n",
    "While `getter` looks like function, they are a [Property](https://developer.mozilla.org/en-US/docs/Glossary/Property/JavaScript) without `value` and instead with a `get` implementation.\n",
    "Most read operation will use the `[[Get]]` [internal method](https://developer.mozilla.org/en-US/docs/Web/JavaScript/Reference/Global_Objects/Proxy#object_internal_methods) which will execute the `get` and use its return value as `value`.\n",
    "This means that, when copy an object containing `getter` properties, those are evaluated, and the result of the evaluation is then assigned in the spread object.\n",
    "\n",
    "## Solution\n",
    "\n",
    "Instead of copying value, we need to copy property descriptors.\n",
    "Property Descriptor can be considered a \"subset\" of Property, minus the `name`\n",
    "ECMAScript comes with various methods to manipulate those:\n",
    "* [`Object.getOwnPropertyDescriptor`](https://developer.mozilla.org/en-US/docs/Web/JavaScript/Reference/Global_Objects/Object/getOwnPropertyDescriptor): Returns the Property Descriptor of a given key\n",
    "* [`Object.getOwnPropertyDescriptors`](https://developer.mozilla.org/en-US/docs/Web/JavaScript/Reference/Global_Objects/Object/getOwnPropertyDescriptors): Returns an object akin to a map between the `name` of all Properties and their respective Property Descriptor of a given object.\n",
    "* [`Object.defineProperty`](https://developer.mozilla.org/en-US/docs/Web/JavaScript/Reference/Global_Objects/Object/defineProperty): Set a Property Descriptor on a given key of a given object. See it as the 'set' counterpart of `Object.getOwnPropertyDescriptor`\n",
    "* [`Object.defineProperties`](https://developer.mozilla.org/en-US/docs/Web/JavaScript/Reference/Global_Objects/Object/defineProperties): Assign all Property Descriptor of a given object, on another object, using the same keys.\n",
    "\n",
    "With the 2nd & 4th methods, we can craft a \"spread for properties\" like so:"
   ]
  },
  {
   "cell_type": "code",
   "execution_count": 1,
   "metadata": {},
   "outputs": [
    {
     "name": "stdout",
     "output_type": "stream",
     "text": [
      "original.counter, expecting 0, found: 0\n",
      "copy.counter, expecting 1, found: 1\n",
      "original.counter, expecting 2, found: 2\n"
     ]
    }
   ],
   "source": [
    "let counter = 0;\n",
    "const original = {\n",
    "    get counter() {\n",
    "        return counter++;\n",
    "    }\n",
    "};\n",
    "const copy = Object.defineProperties({}, Object.getOwnPropertyDescriptors(original));\n",
    "console.log('original.counter, expecting 0, found:', original.counter);\n",
    "console.log('copy.counter, expecting 1, found:', copy.counter);\n",
    "console.log('original.counter, expecting 2, found:', original.counter);"
   ]
  },
  {
   "cell_type": "code",
   "execution_count": null,
   "metadata": {},
   "outputs": [],
   "source": []
  }
 ],
 "metadata": {
  "kernelspec": {
   "display_name": "Deno",
   "language": "typescript",
   "name": "deno"
  },
  "language_info": {
   "codemirror_mode": "typescript",
   "file_extension": ".ts",
   "mimetype": "text/x.typescript",
   "name": "typescript",
   "nbconvert_exporter": "script",
   "pygments_lexer": "typescript",
   "version": "5.5.2"
  }
 },
 "nbformat": 4,
 "nbformat_minor": 2
}
